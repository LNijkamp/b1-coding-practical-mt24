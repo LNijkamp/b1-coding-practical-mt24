{
 "cells": [
  {
   "cell_type": "code",
   "execution_count": 1,
   "metadata": {},
   "outputs": [],
   "source": [
    "# Add relevant Jupyter notebook extensions "
   ]
  },
  {
   "cell_type": "code",
   "execution_count": 2,
   "metadata": {},
   "outputs": [
    {
     "name": "stdout",
     "output_type": "stream",
     "text": [
      "['/Library/Frameworks/Python.framework/Versions/3.13/lib/python313.zip', '/Library/Frameworks/Python.framework/Versions/3.13/lib/python3.13', '/Library/Frameworks/Python.framework/Versions/3.13/lib/python3.13/lib-dynload', '', '/Users/lukenijkamp/.venvs/b1_project1_venv/lib/python3.13/site-packages']\n"
     ]
    }
   ],
   "source": [
    "# You can double-check your Python path like this...\n",
    "import sys \n",
    "import os\n",
    "print(sys.path)\n",
    "\n",
    "# Add the parent directory of uuv_mission to the Python path\n",
    "sys.path.append(os.path.abspath('/Users/lukenijkamp/Library/CloudStorage/OneDrive-Nexus365/Engineering 3rd year/B1 Engineering Computation/Scientific coding/B1 Practical 1/b1-coding-practical-mt24'))"
   ]
  },
  {
   "cell_type": "markdown",
   "metadata": {},
   "source": [
    "# Simulate closed-loop\n",
    "After implementing your control functionality, you can simulate the closed-loop with code that looks something like this..."
   ]
  },
  {
   "cell_type": "code",
   "execution_count": 3,
   "metadata": {},
   "outputs": [
    {
     "ename": "ImportError",
     "evalue": "cannot import name 'controller' from 'uuv_mission.control' (/Users/lukenijkamp/Library/CloudStorage/OneDrive-Nexus365/Engineering 3rd year/B1 Engineering Computation/Scientific coding/B1 Practical 1/b1-coding-practical-mt24/uuv_mission/control.py)",
     "output_type": "error",
     "traceback": [
      "\u001b[0;31m---------------------------------------------------------------------------\u001b[0m",
      "\u001b[0;31mImportError\u001b[0m                               Traceback (most recent call last)",
      "Cell \u001b[0;32mIn[3], line 3\u001b[0m\n\u001b[1;32m      1\u001b[0m \u001b[38;5;66;03m# Import relevant modules\u001b[39;00m\n\u001b[1;32m      2\u001b[0m \u001b[38;5;28;01mfrom\u001b[39;00m \u001b[38;5;21;01muuv_mission\u001b[39;00m\u001b[38;5;21;01m.\u001b[39;00m\u001b[38;5;21;01mdynamic\u001b[39;00m \u001b[38;5;28;01mimport\u001b[39;00m Submarine\n\u001b[0;32m----> 3\u001b[0m \u001b[38;5;28;01mfrom\u001b[39;00m \u001b[38;5;21;01muuv_mission\u001b[39;00m\u001b[38;5;21;01m.\u001b[39;00m\u001b[38;5;21;01mcontrol\u001b[39;00m \u001b[38;5;28;01mimport\u001b[39;00m controller\n\u001b[1;32m      4\u001b[0m \u001b[38;5;28;01mfrom\u001b[39;00m \u001b[38;5;21;01muuv_mission\u001b[39;00m\u001b[38;5;21;01m.\u001b[39;00m\u001b[38;5;21;01mterrain\u001b[39;00m \u001b[38;5;28;01mimport\u001b[39;00m generate_reference_and_limits\n\u001b[1;32m      6\u001b[0m sub \u001b[38;5;241m=\u001b[39m Submarine()\n",
      "\u001b[0;31mImportError\u001b[0m: cannot import name 'controller' from 'uuv_mission.control' (/Users/lukenijkamp/Library/CloudStorage/OneDrive-Nexus365/Engineering 3rd year/B1 Engineering Computation/Scientific coding/B1 Practical 1/b1-coding-practical-mt24/uuv_mission/control.py)"
     ]
    }
   ],
   "source": [
    "# Import relevant modules\n",
    "from uuv_mission.dynamic import Submarine\n",
    "from uuv_mission.control import Controller\n",
    "from uuv_mission.terrain import generate_reference_and_limits\n",
    "\n",
    "sub = Submarine()\n",
    "# Instantiate your controller (depending on your implementation)\n",
    "Controller = Controller()\n",
    "Controller.__init__(0.15,0.6)\n",
    "closed_loop = ClosedLoop(sub, Controller)\n",
    "mission = Mission.from_csv(\"path/to/file\") # You must implement this method in the Mission class\n",
    "\n",
    "trajectory = closed_loop.simulate_with_random_disturbances(mission)\n",
    "trajectory.plot_completed_mission(mission)"
   ]
  }
 ],
 "metadata": {
  "kernelspec": {
   "display_name": "b1_project1_venv",
   "language": "python",
   "name": "python3"
  },
  "language_info": {
   "codemirror_mode": {
    "name": "ipython",
    "version": 3
   },
   "file_extension": ".py",
   "mimetype": "text/x-python",
   "name": "python",
   "nbconvert_exporter": "python",
   "pygments_lexer": "ipython3",
   "version": "3.13.0"
  }
 },
 "nbformat": 4,
 "nbformat_minor": 2
}
