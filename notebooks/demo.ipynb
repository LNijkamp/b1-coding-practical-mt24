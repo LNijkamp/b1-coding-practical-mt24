{
 "cells": [
  {
   "cell_type": "code",
   "execution_count": 10,
   "metadata": {},
   "outputs": [],
   "source": [
    "# Add relevant Jupyter notebook extensions "
   ]
  },
  {
   "cell_type": "code",
   "execution_count": 11,
   "metadata": {},
   "outputs": [
    {
     "name": "stdout",
     "output_type": "stream",
     "text": [
      "['/Library/Frameworks/Python.framework/Versions/3.13/lib/python313.zip', '/Library/Frameworks/Python.framework/Versions/3.13/lib/python3.13', '/Library/Frameworks/Python.framework/Versions/3.13/lib/python3.13/lib-dynload', '', '/Users/lukenijkamp/.venvs/b1_project1_venv/lib/python3.13/site-packages', '/Users/lukenijkamp/Library/CloudStorage/OneDrive-Nexus365/Engineering 3rd year/B1 Engineering Computation/Scientific coding/B1 Practical 1/b1-coding-practical-mt24', '/Users/lukenijkamp/Library/CloudStorage/OneDrive-Nexus365/Engineering 3rd year/B1 Engineering Computation/Scientific coding/B1 Practical 1/b1-coding-practical-mt24', '/Users/lukenijkamp/Library/CloudStorage/OneDrive-Nexus365/Engineering 3rd year/B1 Engineering Computation/Scientific coding/B1 Practical 1/b1-coding-practical-mt24', '/Users/lukenijkamp/Library/CloudStorage/OneDrive-Nexus365/Engineering 3rd year/B1 Engineering Computation/Scientific coding/B1 Practical 1/b1-coding-practical-mt24']\n"
     ]
    }
   ],
   "source": [
    "# You can double-check your Python path like this...\n",
    "import sys \n",
    "import os\n",
    "print(sys.path)\n",
    "\n",
    "# Add the parent directory of uuv_mission to the Python path\n",
    "sys.path.append(os.path.abspath('/Users/lukenijkamp/Library/CloudStorage/OneDrive-Nexus365/Engineering 3rd year/B1 Engineering Computation/Scientific coding/B1 Practical 1/b1-coding-practical-mt24'))"
   ]
  },
  {
   "cell_type": "markdown",
   "metadata": {},
   "source": [
    "# Simulate closed-loop\n",
    "After implementing your control functionality, you can simulate the closed-loop with code that looks something like this..."
   ]
  },
  {
   "cell_type": "code",
   "execution_count": 12,
   "metadata": {},
   "outputs": [
    {
     "ename": "NameError",
     "evalue": "name 'ClosedLoop' is not defined",
     "output_type": "error",
     "traceback": [
      "\u001b[0;31m---------------------------------------------------------------------------\u001b[0m",
      "\u001b[0;31mNameError\u001b[0m                                 Traceback (most recent call last)",
      "Cell \u001b[0;32mIn[12], line 9\u001b[0m\n\u001b[1;32m      7\u001b[0m \u001b[38;5;66;03m# Instantiate your controller (depending on your implementation)\u001b[39;00m\n\u001b[1;32m      8\u001b[0m controller \u001b[38;5;241m=\u001b[39m Controller(\u001b[38;5;241m0.15\u001b[39m, \u001b[38;5;241m0.6\u001b[39m) \n\u001b[0;32m----> 9\u001b[0m closed_loop \u001b[38;5;241m=\u001b[39m \u001b[43mClosedLoop\u001b[49m(sub, Controller)\n\u001b[1;32m     10\u001b[0m mission \u001b[38;5;241m=\u001b[39m Mission\u001b[38;5;241m.\u001b[39mfrom_csv(\u001b[38;5;124m\"\u001b[39m\u001b[38;5;124mpath/to/file\u001b[39m\u001b[38;5;124m\"\u001b[39m) \u001b[38;5;66;03m# You must implement this method in the Mission class\u001b[39;00m\n\u001b[1;32m     12\u001b[0m trajectory \u001b[38;5;241m=\u001b[39m closed_loop\u001b[38;5;241m.\u001b[39msimulate_with_random_disturbances(mission)\n",
      "\u001b[0;31mNameError\u001b[0m: name 'ClosedLoop' is not defined"
     ]
    }
   ],
   "source": [
    "# Import relevant modules\n",
    "from uuv_mission.dynamic import Submarine\n",
    "from uuv_mission.control import Controller\n",
    "from uuv_mission.dynamic import ClosedLoop\n",
    "from uuv_mission.terrain import generate_reference_and_limits\n",
    "\n",
    "sub = Submarine()\n",
    "# Instantiate your controller (depending on your implementation)\n",
    "controller = Controller(0.15, 0.6) \n",
    "closed_loop = ClosedLoop(sub, Controller)\n",
    "mission = Mission.from_csv(\"path/to/file\") # You must implement this method in the Mission class\n",
    "\n",
    "trajectory = closed_loop.simulate_with_random_disturbances(mission)\n",
    "trajectory.plot_completed_mission(mission)"
   ]
  }
 ],
 "metadata": {
  "kernelspec": {
   "display_name": "b1_project1_venv",
   "language": "python",
   "name": "python3"
  },
  "language_info": {
   "codemirror_mode": {
    "name": "ipython",
    "version": 3
   },
   "file_extension": ".py",
   "mimetype": "text/x-python",
   "name": "python",
   "nbconvert_exporter": "python",
   "pygments_lexer": "ipython3",
   "version": "3.13.0"
  }
 },
 "nbformat": 4,
 "nbformat_minor": 2
}
